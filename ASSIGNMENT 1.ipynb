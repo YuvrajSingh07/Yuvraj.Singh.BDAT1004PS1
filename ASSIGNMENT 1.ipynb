{
 "cells": [
  {
   "cell_type": "markdown",
   "id": "302b3497",
   "metadata": {},
   "source": [
    "#qustion 1"
   ]
  },
  {
   "cell_type": "code",
   "execution_count": 2,
   "id": "09e15d0a",
   "metadata": {},
   "outputs": [
    {
     "data": {
      "text/plain": [
       "int"
      ]
     },
     "execution_count": 2,
     "metadata": {},
     "output_type": "execute_result"
    }
   ],
   "source": [
    "type(5) #this is an integer\n"
   ]
  },
  {
   "cell_type": "code",
   "execution_count": 3,
   "id": "c1cb2ba1",
   "metadata": {},
   "outputs": [
    {
     "data": {
      "text/plain": [
       "float"
      ]
     },
     "execution_count": 3,
     "metadata": {},
     "output_type": "execute_result"
    }
   ],
   "source": [
    "type(5.0) #this is a floating point value/decimal value"
   ]
  },
  {
   "cell_type": "code",
   "execution_count": 4,
   "id": "ececd693",
   "metadata": {},
   "outputs": [
    {
     "data": {
      "text/plain": [
       "bool"
      ]
     },
     "execution_count": 4,
     "metadata": {},
     "output_type": "execute_result"
    }
   ],
   "source": [
    "type(5 > 1) # > is a comparison operator. It is of boolean type i.e true/false 1/0 "
   ]
  },
  {
   "cell_type": "code",
   "execution_count": 5,
   "id": "a05ce975",
   "metadata": {},
   "outputs": [
    {
     "data": {
      "text/plain": [
       "str"
      ]
     },
     "execution_count": 5,
     "metadata": {},
     "output_type": "execute_result"
    }
   ],
   "source": [
    "type('5') #it is of string type"
   ]
  },
  {
   "cell_type": "code",
   "execution_count": 6,
   "id": "d5aab429",
   "metadata": {},
   "outputs": [
    {
     "data": {
      "text/plain": [
       "int"
      ]
     },
     "execution_count": 6,
     "metadata": {},
     "output_type": "execute_result"
    }
   ],
   "source": [
    "type(5*2) #this is of integer type"
   ]
  },
  {
   "cell_type": "code",
   "execution_count": 7,
   "id": "13ac4bac",
   "metadata": {},
   "outputs": [
    {
     "ename": "TypeError",
     "evalue": "can only concatenate str (not \"int\") to str",
     "output_type": "error",
     "traceback": [
      "\u001b[1;31m---------------------------------------------------------------------------\u001b[0m",
      "\u001b[1;31mTypeError\u001b[0m                                 Traceback (most recent call last)",
      "Input \u001b[1;32mIn [7]\u001b[0m, in \u001b[0;36m<cell line: 1>\u001b[1;34m()\u001b[0m\n\u001b[1;32m----> 1\u001b[0m \u001b[38;5;28mtype\u001b[39m(\u001b[38;5;124;43m'\u001b[39;49m\u001b[38;5;124;43m5\u001b[39;49m\u001b[38;5;124;43m'\u001b[39;49m\u001b[43m \u001b[49m\u001b[38;5;241;43m+\u001b[39;49m\u001b[43m \u001b[49m\u001b[38;5;241;43m2\u001b[39;49m)\n",
      "\u001b[1;31mTypeError\u001b[0m: can only concatenate str (not \"int\") to str"
     ]
    }
   ],
   "source": [
    "type('5' + 2)# we will get an error when we execute this because we have decared 5 within '' and that is a string and we cannot add atring and integer type"
   ]
  },
  {
   "cell_type": "code",
   "execution_count": 8,
   "id": "7d1d0fba",
   "metadata": {},
   "outputs": [
    {
     "data": {
      "text/plain": [
       "str"
      ]
     },
     "execution_count": 8,
     "metadata": {},
     "output_type": "execute_result"
    }
   ],
   "source": [
    "type('5' + '2')#this will not give us an error as bothe 5 and 2 are declared with ''. This will conctenate the two strings "
   ]
  },
  {
   "cell_type": "code",
   "execution_count": 9,
   "id": "2e26c61e",
   "metadata": {},
   "outputs": [
    {
     "data": {
      "text/plain": [
       "float"
      ]
     },
     "execution_count": 9,
     "metadata": {},
     "output_type": "execute_result"
    }
   ],
   "source": [
    "type(5/2) #this will float/decimal value as / operator is used to divide two values."
   ]
  },
  {
   "cell_type": "code",
   "execution_count": 10,
   "id": "dfa69842",
   "metadata": {},
   "outputs": [
    {
     "data": {
      "text/plain": [
       "int"
      ]
     },
     "execution_count": 10,
     "metadata": {},
     "output_type": "execute_result"
    }
   ],
   "source": [
    "type(5%2) #this will of int type as % operator retrn the remainder"
   ]
  },
  {
   "cell_type": "code",
   "execution_count": 11,
   "id": "5011ea1e",
   "metadata": {},
   "outputs": [
    {
     "data": {
      "text/plain": [
       "set"
      ]
     },
     "execution_count": 11,
     "metadata": {},
     "output_type": "execute_result"
    }
   ],
   "source": [
    "type({5,2,1}) #this will of a set as sets in python are defined by {}"
   ]
  },
  {
   "cell_type": "code",
   "execution_count": 12,
   "id": "e2288556",
   "metadata": {},
   "outputs": [
    {
     "data": {
      "text/plain": [
       "bool"
      ]
     },
     "execution_count": 12,
     "metadata": {},
     "output_type": "execute_result"
    }
   ],
   "source": [
    "type(5 == 3) #this will be of bollean type as == will compare the two variables and return true/false."
   ]
  },
  {
   "cell_type": "code",
   "execution_count": 13,
   "id": "5d1787fb",
   "metadata": {},
   "outputs": [
    {
     "data": {
      "text/plain": [
       "float"
      ]
     },
     "execution_count": 13,
     "metadata": {},
     "output_type": "execute_result"
    }
   ],
   "source": [
    "type(3.14) #pi is of float type"
   ]
  },
  {
   "cell_type": "code",
   "execution_count": null,
   "id": "e08b82c0",
   "metadata": {},
   "outputs": [],
   "source": []
  },
  {
   "cell_type": "markdown",
   "id": "5071beaf",
   "metadata": {},
   "source": [
    "#quesion 2"
   ]
  },
  {
   "cell_type": "code",
   "execution_count": 14,
   "id": "982ca0dd",
   "metadata": {},
   "outputs": [
    {
     "data": {
      "text/plain": [
       "34"
      ]
     },
     "execution_count": 14,
     "metadata": {},
     "output_type": "execute_result"
    }
   ],
   "source": [
    "v = 'Supercalifragilisticexpialidocious'\n",
    "len(v) #checking how many letters are in'Supercalifragilisticexpialidocious'."
   ]
  },
  {
   "cell_type": "code",
   "execution_count": 15,
   "id": "a5bc1967",
   "metadata": {},
   "outputs": [
    {
     "name": "stdout",
     "output_type": "stream",
     "text": [
      "True\n"
     ]
    }
   ],
   "source": [
    "if 'ice' in v: #here we are checking whether 'Supercalifragilisticexpialidocious' contains 'ice' as a substring\n",
    "    print(\"True\") \n",
    "else:\n",
    "    print(\"False\")"
   ]
  },
  {
   "cell_type": "code",
   "execution_count": 16,
   "id": "8207daf9",
   "metadata": {},
   "outputs": [
    {
     "name": "stdout",
     "output_type": "stream",
     "text": [
      "34\n",
      "29\n",
      "34\n"
     ]
    }
   ],
   "source": [
    "print(len(\"Supercalifragilisticexpialidocious\"))\n",
    "print(len(\" Honorificabilitudinitatibus,\"))\n",
    "print(len(\"Bababadalgharaghtakamminarronnkonn\"))"
   ]
  },
  {
   "cell_type": "code",
   "execution_count": null,
   "id": "7ca80a8f",
   "metadata": {},
   "outputs": [],
   "source": [
    "#\"Supercalifragilisticexpialidocious\" and \"Bababadalgharaghtakamminarronnkonn\" are of the same length "
   ]
  },
  {
   "cell_type": "code",
   "execution_count": 17,
   "id": "0034c511",
   "metadata": {},
   "outputs": [
    {
     "name": "stdout",
     "output_type": "stream",
     "text": [
      "First composer: Bartok\n",
      "Last composer:  Buxtehude\n"
     ]
    }
   ],
   "source": [
    "list1=['Berlioz','Borodin','Brain','Bartok','Bellin','Buxtehude','Berstein']\n",
    "list1  #here we are ddeclaring  al ist with the names of various composers and sorting the list.\n",
    "list1.sort()\n",
    "list1\n",
    "print('First composer:', list1[0])\n",
    "print('Last composer: ', list1[-1])"
   ]
  },
  {
   "cell_type": "code",
   "execution_count": null,
   "id": "0a4b5e57",
   "metadata": {},
   "outputs": [],
   "source": []
  },
  {
   "cell_type": "markdown",
   "id": "06d664bb",
   "metadata": {},
   "source": [
    "#question 3"
   ]
  },
  {
   "cell_type": "code",
   "execution_count": 18,
   "id": "4f64aac4",
   "metadata": {},
   "outputs": [],
   "source": [
    "import math #we have to import math module so that we can use the square root function of python"
   ]
  },
  {
   "cell_type": "code",
   "execution_count": 19,
   "id": "7806b9ff",
   "metadata": {},
   "outputs": [
    {
     "name": "stdout",
     "output_type": "stream",
     "text": [
      "Area of the triangle:  1.7320508075688772\n"
     ]
    }
   ],
   "source": [
    "#a = int(input(\"Enter a side of the triangle: \"))  #here we are asking the user to input the 3 sides of a triangle. \n",
    "#b = int(input(\"Enter b side of the triangle: \"))\n",
    "#c = int(input(\"Enter c side of the triangle: \"))\n",
    "\n",
    "def triangleArea(a,b,c):  #we are declaring a fucntino that will calculate the area of the triangle\n",
    "    s=(a+b+c)/2           #we will also give 3 arguments in this function\n",
    "    area = math.sqrt(s*(s-a)*(s-b)*(s-c))\n",
    "    print(\"Area of the triangle: \",area)\n",
    "\n",
    "#triangleArea(c,b,c) #here we are calling the funtion and passing the input taken from user as arguments \n",
    "triangleArea(2,2,2)"
   ]
  },
  {
   "cell_type": "code",
   "execution_count": null,
   "id": "b5e4a796",
   "metadata": {},
   "outputs": [],
   "source": []
  },
  {
   "cell_type": "markdown",
   "id": "86a7ad97",
   "metadata": {},
   "source": [
    "#question 4"
   ]
  },
  {
   "cell_type": "code",
   "execution_count": 20,
   "id": "06a920ae",
   "metadata": {},
   "outputs": [
    {
     "name": "stdout",
     "output_type": "stream",
     "text": [
      "Enter numbers:1 2 3 4 5\n"
     ]
    },
    {
     "data": {
      "text/plain": [
       "1"
      ]
     },
     "execution_count": 20,
     "metadata": {},
     "output_type": "execute_result"
    }
   ],
   "source": [
    "l,m,n,o,p=map(int,input(\"Enter numbers:\").split()) #here we are atking multiple itnerger type inputs from the user in a single line\n",
    "\n",
    "l  #I have taken a reference on how to take multiple interger inputs from user\n",
    "   #https://www.codegrepper.com/code-examples/python/take+multiple+integer+input+in+python, this is the reference website"
   ]
  },
  {
   "cell_type": "code",
   "execution_count": 21,
   "id": "70462c1a",
   "metadata": {},
   "outputs": [
    {
     "data": {
      "text/plain": [
       "[1, 2, 3, 4, 5]"
      ]
     },
     "execution_count": 21,
     "metadata": {},
     "output_type": "execute_result"
    }
   ],
   "source": [
    "list_input = [l,m,n,o,p] #we put the input from the user into a list\n",
    "list_input"
   ]
  },
  {
   "cell_type": "code",
   "execution_count": 22,
   "id": "2bc1fc2c",
   "metadata": {},
   "outputs": [
    {
     "name": "stdout",
     "output_type": "stream",
     "text": [
      "this is even:  2\n",
      "this is even:  4\n",
      "the even elements are:  [2, 4]\n",
      "the odd elements are: [1, 3, 5]\n"
     ]
    }
   ],
   "source": [
    "list_even=[] #we declare two empty lists, list_even and list_odd\n",
    "list_odd=[]\n",
    "\n",
    "for i in list_input: #here we are running a for loop on the input list and checking the numbers for even and odd\n",
    "    if i%2 == 0:\n",
    "        list_even.append(i)  #even numbers will be appended into the lsit_even list\n",
    "        print(\"this is even: \",i)\n",
    "    else:\n",
    "        list_odd.append(i) #the odd numbers will be appended into this list\n",
    "        \n",
    "print(\"the even elements are: \",list_even[0:])\n",
    "print(\"the odd elements are:\" ,list_odd[0:])"
   ]
  },
  {
   "cell_type": "code",
   "execution_count": null,
   "id": "de8d0fcf",
   "metadata": {},
   "outputs": [],
   "source": []
  },
  {
   "cell_type": "markdown",
   "id": "99f61f19",
   "metadata": {},
   "source": [
    "#question 5"
   ]
  },
  {
   "cell_type": "code",
   "execution_count": 23,
   "id": "823bee59",
   "metadata": {},
   "outputs": [],
   "source": [
    "def inside(x,y,x1,y1,x2,y2): \n",
    "    if (x > x1 and x < x2) and (y > y1 and y < y2): #here we are comparing and seeing if the value  of the x and y lie within the given range \n",
    "        print(\"True\")\n",
    "    else:\n",
    "        print(\"False\")\n"
   ]
  },
  {
   "cell_type": "code",
   "execution_count": 29,
   "id": "a522dbc8",
   "metadata": {
    "scrolled": true
   },
   "outputs": [],
   "source": [
    "#x = int(input(\"Enter x cordinate:\"))\n",
    "#y = int(input(\"Enter y cordinate:\"))\n",
    "#x1 = float(input(\"Enter x1 cordinate:\"))\n",
    "#y1 = float(input(\"Enter y1 cordinate:\"))\n",
    "#x2 = float(input(\"Enter x2 cordinate:\"))\n",
    "#y2 = float(input(\"Enter y2 cordinate:\"))\n",
    "\n",
    "#inside(x,y,x1,y1,x2,y2)  #we can alsouse this code to take input from user us that input in the function.  "
   ]
  },
  {
   "cell_type": "code",
   "execution_count": 30,
   "id": "2843a774",
   "metadata": {},
   "outputs": [
    {
     "name": "stdout",
     "output_type": "stream",
     "text": [
      "True\n",
      "False\n",
      "False\n",
      "True\n"
     ]
    }
   ],
   "source": [
    "inside(1,1,0,0,2,3)   #here we are giving the point to check and the range or the points of the triangle\n",
    "inside(-1,-1,0,0,2,3)\n",
    "\n",
    "inside(1,1,0.3,0.5,1.1,0.7)\n",
    "inside(1,1,0.5,0.2,1.1,2)"
   ]
  },
  {
   "cell_type": "markdown",
   "id": "d045bd47",
   "metadata": {},
   "source": [
    "#question 6"
   ]
  },
  {
   "cell_type": "code",
   "execution_count": 31,
   "id": "81d5f67e",
   "metadata": {},
   "outputs": [],
   "source": [
    "list2=[] #here we are declaring an empty list\n",
    "def pig(r): #we are declaring a function wiht r as an argument\n",
    "    for i in r: #this for statemnt will append r into list2 better by letter\n",
    "        #print(i)\n",
    "        list2.append(i)\n",
    "        #print(list2)\n",
    "\n",
    "    if list2[0] == 'a' or list2[0]== 'e' or list2[0]== 'i' or list2[0] == 'o' or list2[0] =='u':\n",
    "        print(\"The string start with a vowel\") #in this if statement we are chekcing whether the first element of the list is a vowel or not\n",
    "        list2.append('way') #f it is vowel then we append 'way' at the end \n",
    "    else: #if the first element is a consonant then this part will execute\n",
    "        print(\"The string starts with a consonant\")\n",
    "        list2.append(list2[0])\n",
    "        list2.pop(0)\n",
    "        list2.append('ay') #we append 'ay#' at the end \n",
    "    print(\"Conversion done\")\n",
    "#print(list1)\n",
    "\n",
    "    string1 =''.join([str(item1) for item1 in list2]) #here we are combining the elements of the list to make a atring\n",
    "    print(\"The string in Latin is:\",string1) #I took a reference on how to join list elements to make a string \n",
    "    list2.clear()                            #https://www.simplilearn.com/tutorials/python-tutorial/list-to-string-in-python, reference\n",
    "    \n"
   ]
  },
  {
   "cell_type": "code",
   "execution_count": 32,
   "id": "363daa44",
   "metadata": {},
   "outputs": [
    {
     "name": "stdout",
     "output_type": "stream",
     "text": [
      "The string starts with a consonant\n",
      "Conversion done\n",
      "The string in Latin is: appyhay\n"
     ]
    }
   ],
   "source": [
    "#r=input(\"Enter a string: \") #we are getting the input from the user\n",
    "#pig('yuvraj')\n",
    "#pig(r)\n",
    "pig('happy') #calling the fucntion"
   ]
  },
  {
   "cell_type": "code",
   "execution_count": null,
   "id": "adf43eca",
   "metadata": {},
   "outputs": [],
   "source": []
  },
  {
   "cell_type": "markdown",
   "id": "6d06c754",
   "metadata": {},
   "source": [
    "#question 7\n"
   ]
  },
  {
   "cell_type": "code",
   "execution_count": 33,
   "id": "0a5a4258",
   "metadata": {},
   "outputs": [],
   "source": [
    "def bldcount(file5): #here we are making a functions with one argument which will be the file name\n",
    "    file5 = open(file5,'r')  #we are opening the file inside the fucntion\n",
    "    t = file5.readline() \n",
    "    n = t.split()   #this will separate every value after a space and will make a list of all the values. \n",
    "    print(\"There are\", n.count(\"A\"), \"patients of bloodtype A.\") #getting the count of \"A\"\n",
    "    if \"B\" in n: #getting the cocunt of \"B\"\n",
    "        print(\"There is one patient of bloodtype B.\")\n",
    "    print(\"There are\", n.count(\"AB\"), \"patients of bloodtype AB.\") #getting the cocunt of \"AB\"\n",
    "    print(\"There are\", n.count(\"O\"), \"patients of bloodtype O.\")   #getting the cocunt of \"O\"\n",
    "    if \"OO\" in n:\n",
    "        print(\"There are\",n.count(\"OO\"),\"of bloodtype OO.\")        #getting the cocunt of \"OO\"\n",
    "    else:\n",
    "        print(\"There are no patients with bloodtype OO.\")\n",
    "    file5.close()    #here we are closing the file"
   ]
  },
  {
   "cell_type": "code",
   "execution_count": 34,
   "id": "d00e0419",
   "metadata": {},
   "outputs": [
    {
     "name": "stdout",
     "output_type": "stream",
     "text": [
      "There are 15 patients of bloodtype A.\n",
      "There is one patient of bloodtype B.\n",
      "There are 13 patients of bloodtype AB.\n",
      "There are 15 patients of bloodtype O.\n",
      "There are no patients with bloodtype OO.\n"
     ]
    }
   ],
   "source": [
    "bldcount(r'E:\\SEMESTER 1\\DATA PROGRAMMING\\bloodtype1.txt')"
   ]
  },
  {
   "cell_type": "code",
   "execution_count": null,
   "id": "da35ff0e",
   "metadata": {},
   "outputs": [],
   "source": []
  },
  {
   "cell_type": "markdown",
   "id": "9bed00e8",
   "metadata": {},
   "source": [
    "#question 8\n"
   ]
  },
  {
   "cell_type": "code",
   "execution_count": 35,
   "id": "8660f11f",
   "metadata": {},
   "outputs": [
    {
     "name": "stdout",
     "output_type": "stream",
     "text": [
      "['AUD\\t1.0345157\\tAustralian Dollar\\n', 'CHF\\t1.0237414\\tSwiss Franc\\n', 'CNY\\t0.1550176\\tChinese Yuan\\n', 'DKK\\t0.1651442\\tDanish Krone\\n', 'EUR\\t1.2296544\\tEuro\\n', 'GBP\\t1.5550989\\tBritish Pound\\n', 'HKD\\t0.1270207\\tHong Kong Dollar\\n', 'INR\\t0.0177643\\tIndian Rupee\\n', 'JPY\\t0.01241401\\tJapanese Yen\\n', 'MXN\\t0.0751848\\tMexican Peso\\n', 'MYR\\t0.3145411\\tMalaysian Ringgit\\n', 'NOK\\t0.1677063\\tNorwegian Krone\\n', 'NZD\\t0.8003591\\tNew Zealand Dollar\\n', 'PHP\\t0.0233234\\tPhilippine Peso\\n', 'SEK\\t0.148269\\tSwedish Krona\\n', 'SGD\\t0.788871\\tSingapore Dollar\\n', 'THB\\t0.0313789\\tThai Baht']\n"
     ]
    }
   ],
   "source": [
    "file3 = open(\"E:\\SEMESTER 1\\DATA PROGRAMMING\\currencies.txt\",'r') #here we are opening the file\n",
    "yu = file3.readlines()\n",
    "print(yu)"
   ]
  },
  {
   "cell_type": "code",
   "execution_count": 36,
   "id": "b9887bf9",
   "metadata": {},
   "outputs": [
    {
     "name": "stdout",
     "output_type": "stream",
     "text": [
      "[['AUD', '1.0345157', 'Australian Dollar\\n'], ['CHF', '1.0237414', 'Swiss Franc\\n'], ['CNY', '0.1550176', 'Chinese Yuan\\n'], ['DKK', '0.1651442', 'Danish Krone\\n'], ['EUR', '1.2296544', 'Euro\\n'], ['GBP', '1.5550989', 'British Pound\\n'], ['HKD', '0.1270207', 'Hong Kong Dollar\\n'], ['INR', '0.0177643', 'Indian Rupee\\n'], ['JPY', '0.01241401', 'Japanese Yen\\n'], ['MXN', '0.0751848', 'Mexican Peso\\n'], ['MYR', '0.3145411', 'Malaysian Ringgit\\n'], ['NOK', '0.1677063', 'Norwegian Krone\\n'], ['NZD', '0.8003591', 'New Zealand Dollar\\n'], ['PHP', '0.0233234', 'Philippine Peso\\n'], ['SEK', '0.148269', 'Swedish Krona\\n'], ['SGD', '0.788871', 'Singapore Dollar\\n'], ['THB', '0.0313789', 'Thai Baht']]\n"
     ]
    }
   ],
   "source": [
    "list4=[]   \n",
    "\n",
    "for i in yu:\n",
    "    list4.append(i.split(\"\\t\")) #this will separate the values after \"\\t\" special character and append the values into the emptyl ist4 we made in the above line.\n",
    "\n",
    "print(list4)"
   ]
  },
  {
   "cell_type": "code",
   "execution_count": 37,
   "id": "c0fefcee",
   "metadata": {},
   "outputs": [
    {
     "data": {
      "text/plain": [
       "str"
      ]
     },
     "execution_count": 37,
     "metadata": {},
     "output_type": "execute_result"
    }
   ],
   "source": [
    "dict1={} #here we are declaring an empty dictionary and an empty list\n",
    "list5=[]\n",
    "\n",
    "for  j in list4:\n",
    "    list5.append(j[0]) #we are appending the first element of each index of list4 into list5\n",
    "\n",
    "type(list5[0])"
   ]
  },
  {
   "cell_type": "code",
   "execution_count": 38,
   "id": "898c974b",
   "metadata": {},
   "outputs": [],
   "source": [
    "list6=[] #here we again make an empty list\n",
    "for i in list4:\n",
    "    list6.append(i[1]) # here we are appending the second eleement of each index of list4 into list6\n",
    "\n",
    "\n",
    "for i in range(len(list5)):\n",
    "    dict1[list5[i]]=list6[i]   #here we are filling the empty dictionary that we made above with elements of list5 as keys and elemenst of list6 aas values\n"
   ]
  },
  {
   "cell_type": "code",
   "execution_count": 39,
   "id": "999404e9",
   "metadata": {},
   "outputs": [
    {
     "name": "stdout",
     "output_type": "stream",
     "text": [
      "122.96544\n"
     ]
    }
   ],
   "source": [
    "#currency=input(\"Enter the currency: \") #here we take input currency from the user \n",
    "#value=float(input(\"enter the value: \")) #here we take the input value from the user\n",
    "    \n",
    "def curconv(currency,value): #here we have made a function wchich takes the currency and the value from the user as arguments\n",
    "    if currency in dict1: #we check whether the currency is in the dictionary.\n",
    "        converted = value*float(dict1[currency]) #here we declare a avriable called converted and store the converted US currency value\n",
    "        print(converted)  #here we print the converted value\n",
    "    else:\n",
    "        print(\"Invalid Input\")\n",
    "\n",
    "curconv('EUR',100)"
   ]
  },
  {
   "cell_type": "code",
   "execution_count": 40,
   "id": "493dd380",
   "metadata": {},
   "outputs": [],
   "source": [
    "file3.close()"
   ]
  },
  {
   "cell_type": "markdown",
   "id": "24aa4034",
   "metadata": {},
   "source": [
    "#question 9"
   ]
  },
  {
   "cell_type": "code",
   "execution_count": 41,
   "id": "2567ea43",
   "metadata": {},
   "outputs": [
    {
     "ename": "TypeError",
     "evalue": "unsupported operand type(s) for +: 'int' and 'str'",
     "output_type": "error",
     "traceback": [
      "\u001b[1;31m---------------------------------------------------------------------------\u001b[0m",
      "\u001b[1;31mTypeError\u001b[0m                                 Traceback (most recent call last)",
      "Input \u001b[1;32mIn [41]\u001b[0m, in \u001b[0;36m<cell line: 1>\u001b[1;34m()\u001b[0m\n\u001b[1;32m----> 1\u001b[0m \u001b[38;5;241;43m6\u001b[39;49m\u001b[43m \u001b[49m\u001b[38;5;241;43m+\u001b[39;49m\u001b[43m \u001b[49m\u001b[38;5;124;43m'\u001b[39;49m\u001b[38;5;124;43ma\u001b[39;49m\u001b[38;5;124;43m'\u001b[39;49m\n",
      "\u001b[1;31mTypeError\u001b[0m: unsupported operand type(s) for +: 'int' and 'str'"
     ]
    }
   ],
   "source": [
    "6 + 'a' #int and str type cannot be added"
   ]
  },
  {
   "cell_type": "code",
   "execution_count": 42,
   "id": "2675005d",
   "metadata": {},
   "outputs": [
    {
     "name": "stdout",
     "output_type": "stream",
     "text": [
      "[0, 1, 2, 3, 4, 5, 6, 7, 8, 9, 10]\n"
     ]
    },
    {
     "ename": "IndexError",
     "evalue": "list index out of range",
     "output_type": "error",
     "traceback": [
      "\u001b[1;31m---------------------------------------------------------------------------\u001b[0m",
      "\u001b[1;31mIndexError\u001b[0m                                Traceback (most recent call last)",
      "Input \u001b[1;32mIn [42]\u001b[0m, in \u001b[0;36m<cell line: 5>\u001b[1;34m()\u001b[0m\n\u001b[0;32m      3\u001b[0m     list_9\u001b[38;5;241m.\u001b[39mappend(i)\n\u001b[0;32m      4\u001b[0m \u001b[38;5;28mprint\u001b[39m(list_9)\n\u001b[1;32m----> 5\u001b[0m \u001b[38;5;28mprint\u001b[39m(\u001b[43mlist_9\u001b[49m\u001b[43m[\u001b[49m\u001b[38;5;241;43m11\u001b[39;49m\u001b[43m]\u001b[49m)\n",
      "\u001b[1;31mIndexError\u001b[0m: list index out of range"
     ]
    }
   ],
   "source": [
    "list_9=[]\n",
    "for i in  range(11):\n",
    "    list_9.append(i)\n",
    "print(list_9)\n",
    "print(list_9[11]) #this will give out of bound/range error"
   ]
  },
  {
   "cell_type": "code",
   "execution_count": 43,
   "id": "6f7cdc96",
   "metadata": {},
   "outputs": [
    {
     "ename": "ValueError",
     "evalue": "math domain error",
     "output_type": "error",
     "traceback": [
      "\u001b[1;31m---------------------------------------------------------------------------\u001b[0m",
      "\u001b[1;31mValueError\u001b[0m                                Traceback (most recent call last)",
      "Input \u001b[1;32mIn [43]\u001b[0m, in \u001b[0;36m<cell line: 1>\u001b[1;34m()\u001b[0m\n\u001b[1;32m----> 1\u001b[0m \u001b[43mmath\u001b[49m\u001b[38;5;241;43m.\u001b[39;49m\u001b[43msqrt\u001b[49m\u001b[43m(\u001b[49m\u001b[38;5;241;43m-\u001b[39;49m\u001b[38;5;241;43m1.0\u001b[39;49m\u001b[43m)\u001b[49m\n",
      "\u001b[1;31mValueError\u001b[0m: math domain error"
     ]
    }
   ],
   "source": [
    "math.sqrt(-1.0)  #this will give a math module error"
   ]
  },
  {
   "cell_type": "code",
   "execution_count": 44,
   "id": "2a0f2597",
   "metadata": {},
   "outputs": [
    {
     "ename": "NameError",
     "evalue": "name 'h' is not defined",
     "output_type": "error",
     "traceback": [
      "\u001b[1;31m---------------------------------------------------------------------------\u001b[0m",
      "\u001b[1;31mNameError\u001b[0m                                 Traceback (most recent call last)",
      "Input \u001b[1;32mIn [44]\u001b[0m, in \u001b[0;36m<cell line: 1>\u001b[1;34m()\u001b[0m\n\u001b[1;32m----> 1\u001b[0m \u001b[38;5;28mprint\u001b[39m(\u001b[43mh\u001b[49m)\n",
      "\u001b[1;31mNameError\u001b[0m: name 'h' is not defined"
     ]
    }
   ],
   "source": [
    "print(h) #this will variable not defined error"
   ]
  },
  {
   "cell_type": "code",
   "execution_count": 45,
   "id": "213d53d3",
   "metadata": {},
   "outputs": [
    {
     "ename": "FileNotFoundError",
     "evalue": "[Errno 2] No such file or directory: 'E:\\\\SEMESTER 1\\\\DATA PROGRAMMING\\\\currency.txt'",
     "output_type": "error",
     "traceback": [
      "\u001b[1;31m---------------------------------------------------------------------------\u001b[0m",
      "\u001b[1;31mFileNotFoundError\u001b[0m                         Traceback (most recent call last)",
      "Input \u001b[1;32mIn [45]\u001b[0m, in \u001b[0;36m<cell line: 1>\u001b[1;34m()\u001b[0m\n\u001b[1;32m----> 1\u001b[0m file \u001b[38;5;241m=\u001b[39m \u001b[38;5;28;43mopen\u001b[39;49m\u001b[43m(\u001b[49m\u001b[38;5;124;43m\"\u001b[39;49m\u001b[38;5;124;43mE:\u001b[39;49m\u001b[38;5;124;43m\\\u001b[39;49m\u001b[38;5;124;43mSEMESTER 1\u001b[39;49m\u001b[38;5;124;43m\\\u001b[39;49m\u001b[38;5;124;43mDATA PROGRAMMING\u001b[39;49m\u001b[38;5;124;43m\\\u001b[39;49m\u001b[38;5;124;43mcurrency.txt\u001b[39;49m\u001b[38;5;124;43m\"\u001b[39;49m\u001b[43m,\u001b[49m\u001b[38;5;124;43m'\u001b[39;49m\u001b[38;5;124;43mr\u001b[39;49m\u001b[38;5;124;43m'\u001b[39;49m\u001b[43m)\u001b[49m\n",
      "\u001b[1;31mFileNotFoundError\u001b[0m: [Errno 2] No such file or directory: 'E:\\\\SEMESTER 1\\\\DATA PROGRAMMING\\\\currency.txt'"
     ]
    }
   ],
   "source": [
    "file = open(\"E:\\SEMESTER 1\\DATA PROGRAMMING\\currency.txt\",'r') #this will error that there is no file name with currency meanining the file name is incorrect"
   ]
  },
  {
   "cell_type": "code",
   "execution_count": null,
   "id": "dff22353",
   "metadata": {},
   "outputs": [],
   "source": []
  },
  {
   "cell_type": "markdown",
   "id": "d0c02278",
   "metadata": {},
   "source": [
    "#question 10"
   ]
  },
  {
   "cell_type": "code",
   "execution_count": 46,
   "id": "9b22512c",
   "metadata": {},
   "outputs": [
    {
     "name": "stdout",
     "output_type": "stream",
     "text": [
      "['a', 'b', 'c', 'd', 'e', 'f', 'g', 'h', 'i', 'j', 'k', 'l', 'm', 'n', 'o', 'p', 'q', 'r', 's', 't', 'u', 'v', 'w', 'x', 'y', 'z']\n",
      "[1, 0, 0, 0, 0, 0, 0, 0, 0, 1, 0, 0, 0, 0, 0, 0, 0, 1, 0, 0, 1, 1, 0, 0, 1, 0]\n"
     ]
    }
   ],
   "source": [
    "string='abcdefghijklmnopqrstuvwxyz' # we are declaring a string with alphabets from a to z\n",
    "list3=[]  #we declare an empty list\n",
    "\n",
    "for i in string:  #we run a for loop to fill list3 with variable string character by characretr\n",
    "    list3.append(i)\n",
    "\n",
    "print(list3)\n",
    "\n",
    "name='yuvraj' #we declare a string variable\n",
    "\n",
    "list4=[] \n",
    "\n",
    "for n in list3: # we run a for loop in list3 and check the count of each element in string name and then append the cound into list4\n",
    "        list4.append(name.count(n))\n",
    "\n",
    "print(list4)"
   ]
  },
  {
   "cell_type": "code",
   "execution_count": null,
   "id": "28ec8738",
   "metadata": {},
   "outputs": [],
   "source": []
  }
 ],
 "metadata": {
  "kernelspec": {
   "display_name": "Python 3 (ipykernel)",
   "language": "python",
   "name": "python3"
  },
  "language_info": {
   "codemirror_mode": {
    "name": "ipython",
    "version": 3
   },
   "file_extension": ".py",
   "mimetype": "text/x-python",
   "name": "python",
   "nbconvert_exporter": "python",
   "pygments_lexer": "ipython3",
   "version": "3.9.12"
  }
 },
 "nbformat": 4,
 "nbformat_minor": 5
}
